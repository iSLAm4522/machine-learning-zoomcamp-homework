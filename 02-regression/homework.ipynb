{
 "cells": [
  {
   "cell_type": "code",
   "execution_count": 1,
   "id": "857b5cc7",
   "metadata": {},
   "outputs": [],
   "source": [
    "# import libraries\n",
    "import numpy as np\n",
    "import pandas as pd\n",
    "import matplotlib.pyplot as plt\n",
    "from linear_model import *"
   ]
  },
  {
   "cell_type": "code",
   "execution_count": 2,
   "id": "a5f9f117",
   "metadata": {},
   "outputs": [],
   "source": [
    "df = pd.read_csv('https://raw.githubusercontent.com/alexeygrigorev/datasets/master/car_fuel_efficiency.csv')"
   ]
  },
  {
   "cell_type": "code",
   "execution_count": 3,
   "id": "78a45666",
   "metadata": {},
   "outputs": [],
   "source": [
    "COLUMNS = [\n",
    "'engine_displacement',\n",
    "'horsepower',\n",
    "'vehicle_weight',\n",
    "'model_year',\n",
    "'fuel_efficiency_mpg']\n",
    "\n",
    "filtered_df = df[COLUMNS]"
   ]
  },
  {
   "cell_type": "code",
   "execution_count": 4,
   "id": "4fdac9d1",
   "metadata": {},
   "outputs": [
    {
     "data": {
      "image/png": "[encoded data removed]",
      "text/plain": [
       "<Figure size 640x480 with 1 Axes>"
      ]
     },
     "metadata": {},
     "output_type": "display_data"
    }
   ],
   "source": [
    "ax = filtered_df['fuel_efficiency_mpg'].plot(kind='hist', bins=50)\n",
    "ax.set_title('Fuel Efficiency Mpg Distribution')\n",
    "ax.set_xlabel('fuel efficiency mpg')\n",
    "plt.show()"
   ]
  },
  {
   "cell_type": "code",
   "execution_count": 5,
   "id": "95e2cd8c",
   "metadata": {},
   "outputs": [
    {
     "data": {
      "text/plain": [
       "'horsepower'"
      ]
     },
     "execution_count": 5,
     "metadata": {},
     "output_type": "execute_result"
    }
   ],
   "source": [
    "# Q1\n",
    "filtered_df.isna().sum().idxmax()"
   ]
  },
  {
   "cell_type": "code",
   "execution_count": 6,
   "id": "101cd8d4",
   "metadata": {},
   "outputs": [
    {
     "name": "stdout",
     "output_type": "stream",
     "text": [
      "149.0\n"
     ]
    }
   ],
   "source": [
    "# Q2\n",
    "print(filtered_df['horsepower'].median())"
   ]
  },
  {
   "cell_type": "code",
   "execution_count": 7,
   "id": "bc01d9b9",
   "metadata": {},
   "outputs": [],
   "source": [
    "# Split data in train/val/test sets, with 60%/20%/20% distribution.\n",
    "n = len(df)\n",
    "n_val = int(round(0.20 * n))\n",
    "n_test = int(round(0.20 * n))\n",
    "n_train = n - n_val - n_test\n",
    "\n",
    "np.random.seed(42)\n",
    "idx = np.arange(n)\n",
    "np.random.shuffle(idx)\n",
    "\n",
    "idx_train = idx[:n_train]\n",
    "idx_val = idx[n_train:n_train + n_val]\n",
    "idx_test = idx[n_train + n_val:]\n",
    "\n",
    "df_train = filtered_df.iloc[idx_train].copy()\n",
    "df_val = filtered_df.iloc[idx_val].copy()\n",
    "df_test = filtered_df.iloc[idx_test].copy()\n",
    "\n",
    "# reset indices\n",
    "for part in (df_train, df_val, df_test):\n",
    "    part.reset_index(drop=True, inplace=True)\n",
    "\n",
    "y_train = df_train['fuel_efficiency_mpg'].values\n",
    "y_val = df_val['fuel_efficiency_mpg'].values\n",
    "y_test = df_test['fuel_efficiency_mpg'].values\n",
    "\n",
    "for part in (df_train, df_val, df_test):\n",
    "    del part['fuel_efficiency_mpg']"
   ]
  },
  {
   "cell_type": "code",
   "execution_count": 8,
   "id": "5d198f47",
   "metadata": {},
   "outputs": [
    {
     "name": "stdout",
     "output_type": "stream",
     "text": [
      "RMSE (missing values filled with 0): 0.52\n"
     ]
    }
   ],
   "source": [
    "# fill missing values with 0, then train model\n",
    "df_train_0_fill = df_train.copy()\n",
    "df_val_0_fill = df_val.copy()\n",
    "df_test_0_fill = df_test.copy()\n",
    "for part in (df_train_0_fill, df_val_0_fill, df_test_0_fill):\n",
    "    part['horsepower'] = part['horsepower'].fillna(0)\n",
    "\n",
    "X_train_0_fill = df_train_0_fill.values\n",
    "X_val_0_fill = df_val_0_fill.values\n",
    "w0, w = train_linear_regression_normal(X_train_0_fill, y_train)\n",
    "y_pred = predict_linear(X_val_0_fill, w0, w)\n",
    "print(f'RMSE (missing values filled with 0): {round(rmse(y_val, y_pred), 2)}')"
   ]
  },
  {
   "cell_type": "code",
   "execution_count": 9,
   "id": "86ce2753",
   "metadata": {},
   "outputs": [
    {
     "name": "stdout",
     "output_type": "stream",
     "text": [
      "RMSE (missing values filled with mean): 0.46\n"
     ]
    }
   ],
   "source": [
    "# fill missing values with mean, then train model\n",
    "horsepower_mean = df_train['horsepower'].mean()\n",
    "df_train_mean_fill = df_train.copy()\n",
    "df_val_mean_fill = df_val.copy()\n",
    "df_test_mean_fill = df_test.copy()\n",
    "for part in (df_train_mean_fill, df_val_mean_fill, df_test_mean_fill):\n",
    "    part['horsepower'] = part['horsepower'].fillna(horsepower_mean)\n",
    "X_train_mean_fill = df_train_mean_fill.values\n",
    "X_val_mean_fill = df_val_mean_fill.values\n",
    "w0, w = train_linear_regression_normal(X_train_mean_fill, y_train)\n",
    "y_pred = predict_linear(X_val_mean_fill, w0, w)\n",
    "print(f'RMSE (missing values filled with mean): {round(rmse(y_val, y_pred), 2)}')"
   ]
  },
  {
   "cell_type": "code",
   "execution_count": 10,
   "id": "f1a14ca0",
   "metadata": {},
   "outputs": [],
   "source": [
    "# Q3\n",
    "# fill horsepower with mean gives better RMSE"
   ]
  },
  {
   "cell_type": "code",
   "execution_count": 11,
   "id": "5eb0ee05",
   "metadata": {},
   "outputs": [
    {
     "name": "stdout",
     "output_type": "stream",
     "text": [
      "RMSE with r=0: 0.517059224888318\n",
      "RMSE with r=0.01: 0.5170592248960598\n",
      "RMSE with r=0.1: 0.5170592249655407\n",
      "RMSE with r=1: 0.5170592256604366\n",
      "RMSE with r=5: 0.5170592287487815\n",
      "RMSE with r=10: 0.5170592326091936\n",
      "RMSE with r=100: 0.5170593020892393\n",
      "\n",
      "Best r value: 0 with RMSE: 0.52\n"
     ]
    }
   ],
   "source": [
    "# Q4\n",
    "# train a regularized linear regression\n",
    "\n",
    "r_values = [0, 0.01, 0.1, 1, 5, 10, 100]\n",
    "rmse_scores = []\n",
    "\n",
    "X_train = df_train_0_fill.values\n",
    "X_val = df_val_0_fill.values\n",
    "\n",
    "for r in r_values:\n",
    "    w0, w = train_regularized_linear_regression(X_train, y_train, r)\n",
    "    y_pred = predict_linear(X_val, w0, w)\n",
    "    score = rmse(y_val, y_pred)\n",
    "    rmse_scores.append(round(score, 2))\n",
    "    print(f'RMSE with r={r}: {score}')\n",
    "\n",
    "\n",
    "best_score = min(rmse_scores)\n",
    "best_indices = [i for i, score in enumerate(rmse_scores) if score == best_score]\n",
    "best_r = r_values[min(best_indices)]  # If multiple have the same score, choose the smallest r\n",
    "\n",
    "print(f\"\\nBest r value: {best_r} with RMSE: {best_score}\")"
   ]
  },
  {
   "cell_type": "code",
   "execution_count": 12,
   "id": "a3b4ff37",
   "metadata": {},
   "outputs": [
    {
     "name": "stdout",
     "output_type": "stream",
     "text": [
      "Seed 0, RMSE: 0.521\n",
      "Seed 1, RMSE: 0.522\n",
      "Seed 2, RMSE: 0.523\n",
      "Seed 3, RMSE: 0.516\n",
      "Seed 4, RMSE: 0.511\n",
      "Seed 5, RMSE: 0.529\n",
      "Seed 6, RMSE: 0.532\n",
      "Seed 7, RMSE: 0.509\n",
      "Seed 8, RMSE: 0.515\n",
      "Seed 9, RMSE: 0.513\n",
      "\n",
      "Standard Deviation of RMSE scores: 0.007\n"
     ]
    }
   ],
   "source": [
    "# Q5\n",
    "# Try different seed values and calculate the standard deviation of RMSE scores\n",
    "\n",
    "seeds = [0, 1, 2, 3, 4, 5, 6, 7, 8, 9]\n",
    "rmse_scores = []\n",
    "\n",
    "for seed in seeds:\n",
    "    # Split data with the current seed\n",
    "    n = len(df)\n",
    "    n_val = int(round(0.20 * n))\n",
    "    n_test = int(round(0.20 * n))\n",
    "    n_train = n - n_val - n_test\n",
    "\n",
    "    np.random.seed(seed)\n",
    "    idx = np.arange(n)\n",
    "    np.random.shuffle(idx)\n",
    "\n",
    "    idx_train = idx[:n_train]\n",
    "    idx_val = idx[n_train:n_train + n_val]\n",
    "    idx_test = idx[n_train + n_val:]\n",
    "\n",
    "    df_train = filtered_df.iloc[idx_train].copy()\n",
    "    df_val = filtered_df.iloc[idx_val].copy()\n",
    "    df_test = filtered_df.iloc[idx_test].copy()\n",
    "\n",
    "    # Reset indices\n",
    "    for part in (df_train, df_val, df_test):\n",
    "        part.reset_index(drop=True, inplace=True)\n",
    "\n",
    "    y_train = df_train['fuel_efficiency_mpg'].values\n",
    "    y_val = df_val['fuel_efficiency_mpg'].values\n",
    "    y_test = df_test['fuel_efficiency_mpg'].values\n",
    "\n",
    "    for part in (df_train, df_val, df_test):\n",
    "        del part['fuel_efficiency_mpg']\n",
    "    \n",
    "    # Fill missing values with 0\n",
    "    df_train_0 = df_train.copy()\n",
    "    df_val_0 = df_val.copy()\n",
    "    df_test_0 = df_test.copy()\n",
    "    \n",
    "    for part in (df_train_0, df_val_0, df_test_0):\n",
    "        part['horsepower'] = part['horsepower'].fillna(0)\n",
    "    \n",
    "    # Train model without regularization\n",
    "    X_train_0 = df_train_0.values\n",
    "    X_val_0 = df_val_0.values\n",
    "    \n",
    "    w0, w = train_linear_regression_normal(X_train_0, y_train)\n",
    "    y_pred = predict_linear(X_val_0, w0, w)\n",
    "    \n",
    "    score = rmse(y_val, y_pred)\n",
    "    rmse_scores.append(score)\n",
    "    \n",
    "    print(f'Seed {seed}, RMSE: {round(score, 3)}')\n",
    "\n",
    "# Calculate the standard deviation of the scores\n",
    "std = np.std(rmse_scores)\n",
    "print(f'\\nStandard Deviation of RMSE scores: {round(std, 3)}')"
   ]
  },
  {
   "cell_type": "code",
   "execution_count": 16,
   "id": "9ae1df5a",
   "metadata": {},
   "outputs": [
    {
     "name": "stdout",
     "output_type": "stream",
     "text": [
      "RMSE on test dataset with r=0.001: 0.516\n"
     ]
    }
   ],
   "source": [
    "# Q6\n",
    "# Split data with seed 9\n",
    "np.random.seed(9)\n",
    "n = len(df)\n",
    "n_val = int(round(0.20 * n))\n",
    "n_test = int(round(0.20 * n))\n",
    "n_train = n - n_val - n_test\n",
    "\n",
    "idx = np.arange(n)\n",
    "np.random.shuffle(idx)\n",
    "\n",
    "idx_train = idx[:n_train]\n",
    "idx_val = idx[n_train:n_train + n_val]\n",
    "idx_test = idx[n_train + n_val:]\n",
    "\n",
    "# Extract the datasets\n",
    "df_train = filtered_df.iloc[idx_train].copy()\n",
    "df_val = filtered_df.iloc[idx_val].copy()\n",
    "df_test = filtered_df.iloc[idx_test].copy()\n",
    "\n",
    "# Reset indices\n",
    "for part in (df_train, df_val, df_test):\n",
    "    part.reset_index(drop=True, inplace=True)\n",
    "\n",
    "# Extract target values\n",
    "y_train = df_train['fuel_efficiency_mpg'].values\n",
    "y_val = df_val['fuel_efficiency_mpg'].values\n",
    "y_test = df_test['fuel_efficiency_mpg'].values\n",
    "\n",
    "# Remove target from features\n",
    "for part in (df_train, df_val, df_test):\n",
    "    del part['fuel_efficiency_mpg']\n",
    "\n",
    "# Combine train and validation datasets\n",
    "df_train_val = pd.concat([df_train, df_val], ignore_index=True)\n",
    "y_train_val = np.concatenate([y_train, y_val])\n",
    "\n",
    "# Fill missing values with 0\n",
    "df_train_val_0 = df_train_val.copy()\n",
    "df_test_0 = df_test.copy()\n",
    "for part in (df_train_val_0, df_test_0):\n",
    "    part['horsepower'] = part['horsepower'].fillna(0)\n",
    "\n",
    "# Convert to numpy arrays\n",
    "X_train_val = df_train_val_0.values\n",
    "X_test = df_test_0.values\n",
    "\n",
    "# Train regularized model with r=0.001\n",
    "w0, w = train_regularized_linear_regression(X_train_val, y_train_val, r=0.001)\n",
    "\n",
    "# Predict on test data and calculate RMSE\n",
    "y_pred = predict_linear(X_test, w0, w)\n",
    "test_rmse = rmse(y_test, y_pred)\n",
    "\n",
    "print(f'RMSE on test dataset with r=0.001: {round(test_rmse, 3)}')"
   ]
  }
 ],
 "metadata": {
  "kernelspec": {
   "display_name": "Python 3",
   "language": "python",
   "name": "python3"
  },
  "language_info": {
   "codemirror_mode": {
    "name": "ipython",
    "version": 3
   },
   "file_extension": ".py",
   "mimetype": "text/x-python",
   "name": "python",
   "nbconvert_exporter": "python",
   "pygments_lexer": "ipython3",
   "version": "3.12.1"
  }
 },
 "nbformat": 4,
 "nbformat_minor": 5
}
