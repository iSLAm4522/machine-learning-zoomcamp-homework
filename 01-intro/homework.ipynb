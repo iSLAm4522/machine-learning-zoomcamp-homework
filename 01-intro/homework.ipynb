{
 "cells": [
  {
   "cell_type": "code",
   "execution_count": 1,
   "id": "16e4bf66",
   "metadata": {},
   "outputs": [],
   "source": [
    "import pandas as pd\n",
    "import numpy as np"
   ]
  },
  {
   "cell_type": "code",
   "execution_count": 2,
   "id": "a7148e2f",
   "metadata": {},
   "outputs": [
    {
     "data": {
      "text/plain": [
       "'2.3.1'"
      ]
     },
     "execution_count": 2,
     "metadata": {},
     "output_type": "execute_result"
    }
   ],
   "source": [
    "# Q1. Pandas version\n",
    "pd.__version__"
   ]
  },
  {
   "cell_type": "code",
   "execution_count": 3,
   "id": "4c4b8186",
   "metadata": {},
   "outputs": [],
   "source": [
    "df = pd.read_csv('https://raw.githubusercontent.com/alexeygrigorev/datasets/master/car_fuel_efficiency.csv')"
   ]
  },
  {
   "cell_type": "code",
   "execution_count": 4,
   "id": "5cce326a",
   "metadata": {},
   "outputs": [
    {
     "data": {
      "text/plain": [
       "9704"
      ]
     },
     "execution_count": 4,
     "metadata": {},
     "output_type": "execute_result"
    }
   ],
   "source": [
    "# Q2. Records count - How many records are in the dataset?\n",
    "df.shape[0]"
   ]
  },
  {
   "cell_type": "code",
   "execution_count": 5,
   "id": "e60962c5",
   "metadata": {},
   "outputs": [
    {
     "data": {
      "text/plain": [
       "2"
      ]
     },
     "execution_count": 5,
     "metadata": {},
     "output_type": "execute_result"
    }
   ],
   "source": [
    "# Q3. Fuel types - How many fuel types are presented in the dataset?\n",
    "df['fuel_type'].nunique()"
   ]
  },
  {
   "cell_type": "code",
   "execution_count": 6,
   "id": "07d111bf",
   "metadata": {},
   "outputs": [
    {
     "data": {
      "text/plain": [
       "np.int64(4)"
      ]
     },
     "execution_count": 6,
     "metadata": {},
     "output_type": "execute_result"
    }
   ],
   "source": [
    "# Q4. Missing values - How many columns in the dataset have missing values?\n",
    "df.isnull().any().sum()"
   ]
  },
  {
   "cell_type": "code",
   "execution_count": 7,
   "id": "e8ba89bd",
   "metadata": {},
   "outputs": [
    {
     "data": {
      "text/plain": [
       "np.float64(23.759122836520497)"
      ]
     },
     "execution_count": 7,
     "metadata": {},
     "output_type": "execute_result"
    }
   ],
   "source": [
    "# Q5. Max fuel efficiency - What's the maximum fuel efficiency of cars from Asia?\n",
    "df[df['origin'] == 'Asia']['fuel_efficiency_mpg'].max()"
   ]
  },
  {
   "cell_type": "code",
   "execution_count": 8,
   "id": "45ce988f",
   "metadata": {},
   "outputs": [
    {
     "name": "stdout",
     "output_type": "stream",
     "text": [
      "Old median value: 149.0\n",
      "New median value: 152.0\n",
      "Are they equal? False\n"
     ]
    }
   ],
   "source": [
    "# Q6. Median value of horsepower\n",
    "\n",
    "# 1. Find the median value of horsepower column in the dataset.\n",
    "old_median_value = df['horsepower'].median()\n",
    "\n",
    "# 2. Next, calculate the most frequent value of the same horsepower column.\n",
    "most_frequent_value = df['horsepower'].mode().iloc[0]\n",
    "\n",
    "# 3. Use fillna method to fill the missing values in horsepower column with the most frequent value from the previous step.\n",
    "df['horsepower'] = df['horsepower'].fillna(most_frequent_value)\n",
    "\n",
    "# 4. Now, calculate the median value of horsepower once again.\n",
    "new_median_value = df['horsepower'].median()\n",
    "\n",
    "print(f\"Old median value: {old_median_value}\")\n",
    "print(f\"New median value: {new_median_value}\")\n",
    "print(f\"Are they equal? {new_median_value == old_median_value}\")\n",
    "\n",
    "# Has it changed?\n",
    "# Yes, it increased"
   ]
  },
  {
   "cell_type": "code",
   "execution_count": 9,
   "id": "e925ec49",
   "metadata": {},
   "outputs": [
    {
     "data": {
      "text/plain": [
       "np.float64(0.5187709081074016)"
      ]
     },
     "execution_count": 9,
     "metadata": {},
     "output_type": "execute_result"
    }
   ],
   "source": [
    "# Q7. Sum of weights\n",
    "\n",
    "# 1. Select all the cars from Asia\n",
    "cars = df[df['origin'] == 'Asia']\n",
    "\n",
    "# 2. Select only columns vehicle_weight and model_year\n",
    "cars = cars[['vehicle_weight', 'model_year']]\n",
    "\n",
    "# 3. Select the first 7 values\n",
    "cars = cars.head(7)\n",
    "\n",
    "# 4. Get the underlying NumPy array. Let's call it X\n",
    "X = cars.values\n",
    "\n",
    "# 5. Compute matrix-matrix multiplication between the transpose of X and X. To get the transpose, use X.T. Let's call the result XTX.\n",
    "XTX = np.dot(X.T, X)\n",
    "\n",
    "# 6. Invert XTX.\n",
    "inverted_xtx = np.linalg.inv(XTX)\n",
    "\n",
    "# 7. Create an array y with values [1100, 1300, 800, 900, 1000, 1100, 1200].\n",
    "y = np.array([1100, 1300, 800, 900, 1000, 1100, 1200])\n",
    "\n",
    "# 8. Multiply the inverse of XTX with the transpose of X, and then multiply the result by y. Call the result w.\n",
    "result = np.dot(inverted_xtx, X.T)\n",
    "w = np.dot(result, y)\n",
    "\n",
    "# What's the sum of all the elements of the result?\n",
    "w.sum()"
   ]
  }
 ],
 "metadata": {
  "kernelspec": {
   "display_name": "Python 3",
   "language": "python",
   "name": "python3"
  },
  "language_info": {
   "codemirror_mode": {
    "name": "ipython",
    "version": 3
   },
   "file_extension": ".py",
   "mimetype": "text/x-python",
   "name": "python",
   "nbconvert_exporter": "python",
   "pygments_lexer": "ipython3",
   "version": "3.12.1"
  }
 },
 "nbformat": 4,
 "nbformat_minor": 5
}
